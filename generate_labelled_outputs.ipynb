{
 "cells": [
  {
   "cell_type": "code",
   "execution_count": null,
   "id": "da380422",
   "metadata": {},
   "outputs": [],
   "source": [
    "import torch # type: ignore\n",
    "from torchvision import models, transforms # type: ignore\n",
    "\n",
    "import pandas as pd # type: ignore\n",
    "import numpy as np # type: ignore\n",
    "\n",
    "from scripts.utils import ( # type: ignore\n",
    "    set_seed,\n",
    "    worker_init_fn\n",
    ") \n",
    "from scripts.preprocessing import ( # type: ignore\n",
    "    get_dataset, \n",
    "    to_memory\n",
    ") \n",
    "from scripts.models import ( # type: ignore\n",
    "    mixedresnetnetwork\n",
    ") \n",
    "from scripts.stratification import ( # type: ignore\n",
    "    evaluate_on_test_set,\n",
    "    assign_traffic_light)"
   ]
  },
  {
   "cell_type": "code",
   "execution_count": null,
   "id": "9dcb7492",
   "metadata": {},
   "outputs": [],
   "source": [
    "# Set seed and initialize device\n",
    "\n",
    "torch.__version__\n",
    "\n",
    "set_seed(44)\n",
    "\n",
    "device = torch.device(\"cuda\" if torch.cuda.is_available() else \"cpu\")\n",
    "print(f'Selected device: {device}')\n",
    "\n",
    "torch.cuda.is_available()"
   ]
  },
  {
   "cell_type": "code",
   "execution_count": null,
   "id": "0f336330",
   "metadata": {},
   "outputs": [],
   "source": [
    "# Load and transform your data\n",
    " \n",
    "test_transform = transforms.Compose([transforms.Resize(256),\n",
    "                                    transforms.CenterCrop(224),\n",
    "                                    transforms.Normalize(mean=[0.485, 0.456, 0.406], std=[0.229, 0.224, 0.225])\n",
    "                                    ])\n",
    "\n",
    "test_data_dir = './data/your_data'\n",
    "\n",
    "np_images = np.load(test_data_dir + '/np_images.npy')\n",
    "features = np.load(test_data_dir + '/features.npy')\n",
    "print(f\"Shape of np_images: {np_images.shape}\")\n",
    "print(f\"Shape of features: {features.shape}\")\n",
    "\n",
    "test_dataset = get_dataset(test_data_dir, transform=test_transform)\n",
    "\n",
    "test_dataset = to_memory(test_dataset, device)\n",
    "\n",
    "test_loader = torch.utils.data.DataLoader(test_dataset, batch_size=16, shuffle=False, num_workers=4, worker_init_fn=worker_init_fn) # on CPU-only machines, set num_workers=0"
   ]
  },
  {
   "cell_type": "code",
   "execution_count": null,
   "id": "78e67dbc",
   "metadata": {},
   "outputs": [],
   "source": [
    "# Load pre-trained model with default weights\n",
    "\n",
    "resnet50 = models.resnet50(weights='DEFAULT')\n",
    "model = mixedresnetnetwork(model=resnet50, embeddings=resnet50.fc.in_features)\n",
    "print(model)\n",
    "\n",
    "SAVE_END_MODEL=True\n",
    "\n",
    "if SAVE_END_MODEL:\n",
    "    # for this to work, your notebook must be saved in the same folder as '3BTRON.pt' and the 'scripts' folder.\n",
    "\t# depending on your machine, comment out the line you don't need\n",
    "    ## if using a gpu\n",
    "    model.load_state_dict(torch.load('./3BTRON.pt')) \n",
    "    ## if running on a CPU-only machine\n",
    "    model.load_state_dict(torch.load('./3BTRON.pt', map_location=torch.device('cpu')))\n",
    "\n",
    "model = model.to(device)\n",
    "model.eval()"
   ]
  },
  {
   "cell_type": "code",
   "execution_count": null,
   "id": "88ef62e7",
   "metadata": {},
   "outputs": [],
   "source": [
    "# Set pre-determined optimal thresholds\n",
    " \n",
    "optimal_thresholds = {}\n",
    "optimal_thresholds['3BTRON'] = {'green': 0.25,\n",
    "                                'amber': 0.75}\n",
    "print(optimal_thresholds)"
   ]
  },
  {
   "cell_type": "code",
   "execution_count": null,
   "id": "9b3697d8",
   "metadata": {},
   "outputs": [],
   "source": [
    "# Get numeric features and calibrated probabilities\n",
    "\n",
    "numeric_features_list = []\n",
    "all_test_logits = []"
   ]
  },
  {
   "cell_type": "code",
   "execution_count": null,
   "id": "64d9de46",
   "metadata": {},
   "outputs": [],
   "source": [
    "# Generate outputs on your own data\n",
    "\n",
    "with torch.no_grad():\n",
    "    for batch in test_loader:\n",
    "        data, targets, _ = batch\n",
    "        targets = targets.to(device)\n",
    "        logits = model(data.to(device))\n",
    "        all_test_logits.append(logits)\n",
    "        numeric_features_list.append(model.get_numeric_features().cpu().numpy())\n",
    "        labels.append(targets.cpu().numpy())\n",
    "numeric_features_array = np.concatenate(numeric_features_list, axis=0)\n",
    "true_labels = np.concatenate(labels, axis=0)\n",
    "test_logits = torch.cat(all_test_logits, dim=0)\n",
    "calibrated_probs = torch.sigmoid(test_logits[:, 1]).cpu().numpy()"
   ]
  },
  {
   "cell_type": "code",
   "execution_count": null,
   "id": "6d63ae71",
   "metadata": {},
   "outputs": [],
   "source": [
    "# Store outputs\n",
    "\n",
    "scores['3BTRON'] = {\n",
    "        'test_true_labels': true_labels,\n",
    "        'test_features': numeric_features_array,\n",
    "        'test_pos_probabilities': calibrated_probs\n",
    "    }"
   ]
  },
  {
   "cell_type": "code",
   "execution_count": null,
   "id": "f68398ba",
   "metadata": {},
   "outputs": [],
   "source": [
    "# Evaluate model performance on your own dataset\n",
    "\n",
    "final_results = evaluate_on_test_set(scores, optimal_thresholds)\n",
    "print(final_results)"
   ]
  },
  {
   "cell_type": "code",
   "execution_count": null,
   "id": "7edbddc6",
   "metadata": {},
   "outputs": [],
   "source": [
    "# Assign traffic light labels\n",
    "\n",
    "traffic_lights = assign_traffic_light(scores['3BTRON']['test_pos_probabilities'], green_threshold=optimal_thresholds['3BTRON']['green'], amber_threshold=optimal_thresholds['3BTRON']['amber'])\n",
    "print(traffic_lights)\n",
    "traffic_lights_df = pd.DataFrame(traffic_lights)"
   ]
  },
  {
   "cell_type": "code",
   "execution_count": null,
   "id": "d871c061",
   "metadata": {},
   "outputs": [],
   "source": [
    "# Get true labels\n",
    "\n",
    "true_labels = scores['3BTRON']['test_true_labels']\n",
    "print(true_labels)\n",
    "true_labels_df = pd.DataFrame(true_labels)"
   ]
  },
  {
   "cell_type": "code",
   "execution_count": null,
   "id": "f737ab85",
   "metadata": {},
   "outputs": [],
   "source": [
    "# Get calibrated probabilities\n",
    "\n",
    "calibrated_probs = scores['3BTRON']['test_pos_probabilities']\n",
    "print(calibrated_probs)\n",
    "calibrated_probs_df = pd.DataFrame(calibrated_probs)"
   ]
  },
  {
   "cell_type": "code",
   "execution_count": null,
   "id": "7d4f60f2",
   "metadata": {},
   "outputs": [],
   "source": [
    "# Get features \n",
    "\n",
    "features = scores['3BTRON']['test_features']\n",
    "features = features.reshape(len(features), len(features[0]))\n",
    "print(features)\n",
    "features_df = pd.DataFrame(features)"
   ]
  },
  {
   "cell_type": "code",
   "execution_count": null,
   "id": "5fb0364a",
   "metadata": {},
   "outputs": [],
   "source": [
    "# Get breakdown \n",
    "\n",
    "deep_look = pd.concat([traffic_lights_df, true_labels_df, calibrated_probs_df, features_df], axis=1)\n",
    "deep_look.columns = ['Traffic Lights', 'True Labels', 'Age Likelihood', 'Female', 'Male', 'CC', 'HC', 'PFC']\n",
    "deep_look['Sex'] = deep_look['Female'].map(lambda x: 'Female' if x == 1 else 'Male')\n",
    "deep_look = deep_look.drop(columns=['Female', 'Male'])\n",
    "\n",
    "## Define function to get brain region \n",
    "\n",
    "def get_brain_region(row):\n",
    "    regions = ['CC', 'HC', 'PFC']\n",
    "    active_regions = [region for region in regions if row[region] == 1]\n",
    "\n",
    "    # If one brain region is active, return that brain region\n",
    "    \n",
    "    if len(active_regions) == 1:\n",
    "        return active_regions[0]\n",
    "    \n",
    "    # If multiple brain regions are active, you can either choose one or concatenate them\n",
    "    \n",
    "    else:\n",
    "        return ', '.join(active_regions)  # Concatenate brain regions \n",
    "    \n",
    "deep_look['Brain Region'] = deep_look.apply(get_brain_region, axis=1)\n",
    "deep_look = deep_look.drop(columns=['CC', 'HC', 'PFC'])\n",
    "print(deep_look)\n",
    "deep_look.to_csv('3BTRON_labelled_deep_look.csv', index=False)"
   ]
  }
 ],
 "metadata": {
  "language_info": {
   "name": "python"
  }
 },
 "nbformat": 4,
 "nbformat_minor": 5
}
