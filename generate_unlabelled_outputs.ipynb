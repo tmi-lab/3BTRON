{
 "cells": [
  {
   "cell_type": "code",
   "execution_count": null,
   "id": "326c3943",
   "metadata": {},
   "outputs": [],
   "source": [
    "import torch # type: ignore\n",
    "from torchvision import models, transforms # type: ignore\n",
    "\n",
    "import pandas as pd # type: ignore\n",
    "import numpy as np # type: ignore\n",
    "\n",
    "from scripts.utils import ( # type: ignore\n",
    "    set_seed,\n",
    "    worker_init_fn\n",
    ") \n",
    "from scripts.preprocessing import ( # type: ignore\n",
    "    get_middle_age_dataset, \n",
    "    to_memory\n",
    ") \n",
    "from scripts.models import ( # type: ignore\n",
    "    mixedresnetnetwork\n",
    ") "
   ]
  },
  {
   "cell_type": "code",
   "execution_count": null,
   "id": "6146780e",
   "metadata": {},
   "outputs": [],
   "source": [
    "# Set seed and initialize device\n",
    "\n",
    "torch.__version__\n",
    "\n",
    "set_seed(44)\n",
    "\n",
    "device = torch.device(\"cuda\" if torch.cuda.is_available() else \"cpu\")\n",
    "print(f'Selected device: {device}')\n",
    "\n",
    "torch.cuda.is_available()"
   ]
  },
  {
   "cell_type": "code",
   "execution_count": null,
   "id": "42ba2490",
   "metadata": {},
   "outputs": [],
   "source": [
    "# Load and transform your data\n",
    "\n",
    "test_transform = transforms.Compose([transforms.Resize(256),\n",
    "                                    transforms.CenterCrop(224),\n",
    "                                    transforms.Normalize(mean=[0.485, 0.456, 0.406], std=[0.229, 0.224, 0.225])\n",
    "                                    ])\n",
    "\n",
    "test_data_dir = './data/your_data'\n",
    "\n",
    "np_images = np.load(test_data_dir + '/np_images.npy')\n",
    "features = np.load(test_data_dir + '/features.npy')\n",
    "print(f\"Shape of np_images: {np_images.shape}\")\n",
    "print(f\"Shape of features: {features.shape}\")\n",
    "\n",
    "test_dataset = get_middle_age_dataset(test_data_dir, transform=test_transform)\n",
    "\n",
    "test_dataset = to_memory(test_dataset, device)\n",
    "\n",
    "test_loader = torch.utils.data.DataLoader(test_dataset, batch_size=16, shuffle=False, num_workers=4, worker_init_fn=worker_init_fn) # on CPU-only machines, set num_workers=0"
   ]
  },
  {
   "cell_type": "code",
   "execution_count": null,
   "id": "6b14521c",
   "metadata": {},
   "outputs": [],
   "source": [
    "# Load pre-trained model with default weights\n",
    "\n",
    "resnet50 = models.resnet50(weights='DEFAULT')\n",
    "model = mixedresnetnetwork(model=resnet50, embeddings=resnet50.fc.in_features)\n",
    "print(model)\n",
    "\n",
    "SAVE_END_MODEL=True\n",
    "\n",
    "if SAVE_END_MODEL:\n",
    "    # for this to work, your notebook must be saved in the same folder as '3BTRON.pt' and the 'scripts' folder.\n",
    "\t# depending on your machine, comment out the line you don't need\n",
    "    ## if using a gpu\n",
    "    model.load_state_dict(torch.load('./3BTRON.pt')) \n",
    "    ## if running on a CPU-only machine\n",
    "    model.load_state_dict(torch.load('./3BTRON.pt', map_location=torch.device('cpu')))\n",
    "\n",
    "model = model.to(device)\n",
    "model.eval()"
   ]
  },
  {
   "cell_type": "code",
   "execution_count": null,
   "id": "5a1b6880",
   "metadata": {},
   "outputs": [],
   "source": [
    "# Set pre-determined optimal thresholds\n",
    "\n",
    "optimal_thresholds = {}\n",
    "optimal_thresholds['3BTRON'] = {'green': 0.25,\n",
    "                                'amber': 0.75}\n",
    "print(optimal_thresholds)"
   ]
  },
  {
   "cell_type": "code",
   "execution_count": null,
   "id": "b906d4e2",
   "metadata": {},
   "outputs": [],
   "source": [
    "# Get numeric features and calibrated probabilities\n",
    "\n",
    "numeric_features_list = []\n",
    "all_test_logits = []"
   ]
  },
  {
   "cell_type": "code",
   "execution_count": null,
   "id": "fc39425a",
   "metadata": {},
   "outputs": [],
   "source": [
    "# Generate outputs on your own data\n",
    "\n",
    "with torch.no_grad():\n",
    "    for batch in test_loader:\n",
    "        data = batch\n",
    "        logits = model(data.to(device))\n",
    "        all_test_logits.append(logits)\n",
    "        numeric_features_list.append(model.get_numeric_features().cpu().numpy())\n",
    "numeric_features_array = np.concatenate(numeric_features_list, axis=0)\n",
    "test_logits = torch.cat(all_test_logits, dim=0)\n",
    "calibrated_probs = torch.sigmoid(test_logits[:, 1]).cpu().numpy()"
   ]
  },
  {
   "cell_type": "code",
   "execution_count": null,
   "id": "b22c0d31",
   "metadata": {},
   "outputs": [],
   "source": [
    "# Get traffic light assignments\n",
    "\n",
    "predictions = []\n",
    "\n",
    "for prob in calibrated_probs:\n",
    "    if prob <= optimal_thresholds['ResNet50']['green']:\n",
    "        predictions.append('Green')  # Confidently negative\n",
    "    elif prob > optimal_thresholds['ResNet50']['green'] and prob <= optimal_thresholds['ResNet50']['amber']:\n",
    "        predictions.append('Amber')  # Uncertain class\n",
    "    else:\n",
    "        predictions.append('Red')  # Confidently positive\n",
    "\n",
    "print(predictions)\n",
    "predictions_df = pd.DataFrame(predictions)"
   ]
  },
  {
   "cell_type": "code",
   "execution_count": null,
   "id": "e8dedbb2",
   "metadata": {},
   "outputs": [],
   "source": [
    "# Get calibrated probabilities\n",
    "\n",
    "calibrated_probs_df = pd.DataFrame(calibrated_probs)"
   ]
  },
  {
   "cell_type": "code",
   "execution_count": null,
   "id": "2b5534a8",
   "metadata": {},
   "outputs": [],
   "source": [
    "# Get features\n",
    " \n",
    "features = numeric_features_array\n",
    "print(features.shape)\n",
    "features = features.reshape(features.shape[0], 5)\n",
    "print(features)\n",
    "features_df = pd.DataFrame(features)"
   ]
  },
  {
   "cell_type": "code",
   "execution_count": null,
   "id": "ed3a88fb",
   "metadata": {},
   "outputs": [],
   "source": [
    "# Get breakdown\n",
    "\n",
    "deep_look = pd.concat([predictions_df, features_df], axis=1)\n",
    "deep_look.columns = ['Traffic Lights', 'Female', 'Male', 'CC', 'HC', 'PFC']\n",
    "deep_look['Sex'] = deep_look['Female'].map(lambda x: 'Female' if x == 1 else 'Male')\n",
    "deep_look = deep_look.drop(columns=['Female', 'Male'])\n",
    "\n",
    "## Define function to get brain region \n",
    "\n",
    "def get_brain_region(row):\n",
    "    regions = ['CC', 'HC', 'PFC']\n",
    "    active_regions = [region for region in regions if row[region] == 1]\n",
    "\n",
    "    # If one brain region is active, return that brain region\n",
    "\n",
    "    if len(active_regions) == 1:\n",
    "        return active_regions[0]\n",
    "    \n",
    "    # If multiple brain regions are active, you can either choose one or concatenate them\n",
    "\n",
    "    else:\n",
    "        return ', '.join(active_regions)  # Concatenate brain regions\n",
    "    \n",
    "deep_look['Brain Region'] = deep_look.apply(get_brain_region, axis=1)\n",
    "deep_look = deep_look.drop(columns=['CC', 'HC', 'PFC'])\n",
    "print(deep_look)\n",
    "deep_look.to_csv('./3BTRON_unlabelled_deep_look.csv', index=False)"
   ]
  }
 ],
 "metadata": {
  "language_info": {
   "name": "python"
  }
 },
 "nbformat": 4,
 "nbformat_minor": 5
}
